{
 "cells": [
  {
   "cell_type": "markdown",
   "id": "86551c39",
   "metadata": {},
   "source": [
    "# 2. Método de Halley\n",
    "\n",
    "El método de Halley es funcional para encontrar raices de funciones no lineales. este es un algoritmo para encontrar un cero de una función utilizada siendo esta una funcion de variable real posible de derivar 2 veces, siendo su segunda derivada continua. tambien podemos considerar que este método solo es una generalizacón del método de newton, con convergencia cúbica.\n",
    "\n",
    "## 2.1. Deducción del método\n",
    "\n",
    "Como lo hemos presentado con anterioridad este método viene generalizado por el método de newton asi que partiremos con su aplicación a la función.\n",
    "\n",
    "$$g = \\frac{f}{\\sqrt{f'}}$$\n",
    "asi es que $$x_{n+1} = x_{n} \\frac{g(x)}{\\sqrt{g'(x)}}$$\n",
    "con $$g'(x) = \\frac{2[f'(x)]^2 - f(x)f''(x)}{\\sqrt{2f'(x)\\sqrt{f'(x)}}}$$\n",
    "\n",
    "y dado esto es que se estima que sí f'(c) = 0 se aplicara solo si g puede extenderse a c."
   ]
  },
  {
   "cell_type": "markdown",
   "id": "ee5c111f",
   "metadata": {},
   "source": [
    "Ahora bien para comprender el método nos ayudaremos del siguiente ejemplo práctico.\n",
    "\n",
    "Encontrar mediante el método de Halley la raiz de la función $f(x)=1/2-cos(x)$ con una tolerancia de $1x10^-9$ para el error absoluto, tal que $x \\in [0,\\pi]$ definimos la función y el intervalo inicial."
   ]
  },
  {
   "cell_type": "markdown",
   "id": "e5996098",
   "metadata": {},
   "source": [
    "## 2.2. Logaritmo del método de Halley\n",
    "A continuación presentaremos el logaritmo o codigo del método de Halley para luego continuar a sacar su convergencia y otras definiciones para concluir con dicho método.\n",
    "\n",
    "haremos uso de la siguiente formula:\n",
    "\n",
    "$$x_{n+1} = x_{n} -\\frac{2f(x_{n})f'(x_{n})}{2f'(x_{n})^2-f(x_{n})f''(x_{n})}$$"
   ]
  },
  {
   "cell_type": "markdown",
   "id": "11f320d1",
   "metadata": {},
   "source": [
    "Ahora bien importemos la librerias que no serviran para el desarrollo de nuestro algoritmo"
   ]
  },
  {
   "cell_type": "code",
   "execution_count": 1,
   "id": "a3675316",
   "metadata": {},
   "outputs": [
    {
     "name": "stdout",
     "output_type": "stream",
     "text": [
      "Requirement already satisfied: tabulate in c:\\users\\lisbe\\appdata\\local\\programs\\python\\python310\\lib\\site-packages (0.8.9)\n",
      "Note: you may need to restart the kernel to use updated packages.\n"
     ]
    }
   ],
   "source": [
    "pip install tabulate"
   ]
  },
  {
   "cell_type": "code",
   "execution_count": 2,
   "id": "7452790e",
   "metadata": {},
   "outputs": [],
   "source": [
    " from tabulate import tabulate"
   ]
  },
  {
   "cell_type": "code",
   "execution_count": 75,
   "id": "29bb77a2",
   "metadata": {},
   "outputs": [],
   "source": [
    "import math\n",
    "from math import exp, sqrt, sin, cos, pi\n",
    "import numpy as np"
   ]
  },
  {
   "cell_type": "markdown",
   "id": "f249efc6",
   "metadata": {},
   "source": [
    "Definamos nuestra función con su primera y segunda derivada"
   ]
  },
  {
   "cell_type": "code",
   "execution_count": 143,
   "id": "01617527",
   "metadata": {},
   "outputs": [],
   "source": [
    "#función del ejercicio \n",
    "def f(t):\n",
    "    return 1/2-cos(t)\n",
    "\n",
    "#primera derivada de la función\n",
    "\n",
    "def df(t):\n",
    "    return sin(t)\n",
    "\n",
    "#segunda derivada de la función\n",
    "\n",
    "def d2f(t):\n",
    "    return cos(t)"
   ]
  },
  {
   "cell_type": "markdown",
   "id": "3415a656",
   "metadata": {},
   "source": [
    "Probando que todo lo anterior este bien codificado para $f(0)$, $f(\\pi/2)$ y $f(\\pi)$.\n",
    "- ES CORRECTO LO ESTA!\n"
   ]
  },
  {
   "cell_type": "code",
   "execution_count": 144,
   "id": "ed9c9772",
   "metadata": {},
   "outputs": [
    {
     "data": {
      "text/plain": [
       "-0.5"
      ]
     },
     "execution_count": 144,
     "metadata": {},
     "output_type": "execute_result"
    }
   ],
   "source": [
    "f(0)"
   ]
  },
  {
   "cell_type": "code",
   "execution_count": 145,
   "id": "d156eb72",
   "metadata": {},
   "outputs": [
    {
     "data": {
      "text/plain": [
       "0.49999999999999994"
      ]
     },
     "execution_count": 145,
     "metadata": {},
     "output_type": "execute_result"
    }
   ],
   "source": [
    "f(pi/2)"
   ]
  },
  {
   "cell_type": "code",
   "execution_count": 146,
   "id": "1fc9bce2",
   "metadata": {},
   "outputs": [
    {
     "data": {
      "text/plain": [
       "1.5"
      ]
     },
     "execution_count": 146,
     "metadata": {},
     "output_type": "execute_result"
    }
   ],
   "source": [
    "f(pi)"
   ]
  },
  {
   "cell_type": "markdown",
   "id": "3fcad6f2",
   "metadata": {},
   "source": [
    "Definamos variables donde:\n",
    "- __iter:__ numero de iteraciones maximas\n",
    "- __tol:__ tolerancia \n",
    "- __p0:__ valor inicial\n",
    "- __listahalley:__ lista para representar el numero de iteraciones\n",
    "\n",
    "para __iter__ y __p0__ haremos uso de nuestro intervalo de $[0,\\pi]$"
   ]
  },
  {
   "cell_type": "code",
   "execution_count": 147,
   "id": "314bbba9",
   "metadata": {},
   "outputs": [],
   "source": [
    "iter=pi\n",
    "tol=10**(-9)\n",
    "p0=0\n",
    "listahalley=[]"
   ]
  },
  {
   "cell_type": "markdown",
   "id": "8b332987",
   "metadata": {},
   "source": [
    "Presentando el logaritmo de halley - para la realizaión del ejercicio anterior nos basaremos en presentar sus valores por medio de tabulaciones."
   ]
  },
  {
   "cell_type": "code",
   "execution_count": 148,
   "id": "b0dfbe1e",
   "metadata": {},
   "outputs": [],
   "source": [
    "#logaritmo de halley\n",
    "def halley(f,p0):                         #definiendo la función halley\n",
    "    p=p0                                 #sobredefiniendo p0\n",
    "    lista=[]                             #definiendo lista simple\n",
    "    pp=\"-\"                              \n",
    "    error=\"-\"\n",
    "    for i in [*range(0, int(float(iter)))]:   #ciclo for para tomar encuenta el intervalo [0,pi]\n",
    "        lista.append([i,p,f(p),df(p),error]) \n",
    "        listahalley.append(p)\n",
    "        pp=p\n",
    "        p=p-2*f(p)*df(p)/2*df(p)**2-f(p)*d2f(p) #formula de halley\n",
    "        errorA=abs(p-pp)                        #encontrar el error de halley\n",
    "        if p!=0:                                #iteraciones hasta encontrar 0\n",
    "            errorB=abs(p-pp)/p\n",
    "        errorC=abs(f(p))\n",
    "        error=errorA\n",
    "        if error<tol:                          #parar hasta que error sea menor que la tolerancia\n",
    "            break                                 \n",
    "    print(tabulate(lista,headers=[\"n\",\"pn\",\"f(pn)\",\"f'(pn)\",\"error\"])) #imprimiendo resultados en tabulaciones\n",
    "    return p\n"
   ]
  },
  {
   "cell_type": "markdown",
   "id": "30a59acd",
   "metadata": {},
   "source": [
    "Ya teniendo el logaritmo de Halley procederemos a llamar la función para presentar los valores en tabulaciones. \n",
    "<font color=\"green\"> para ello solo necesitaremos la respectiva función halley con f = funcion y 0 = el valor inicial x0</font>"
   ]
  },
  {
   "cell_type": "code",
   "execution_count": 149,
   "id": "341def18",
   "metadata": {},
   "outputs": [
    {
     "ename": "NameError",
     "evalue": "name 'tabulate' is not defined",
     "output_type": "error",
     "traceback": [
      "\u001b[1;31m---------------------------------------------------------------------------\u001b[0m",
      "\u001b[1;31mNameError\u001b[0m                                 Traceback (most recent call last)",
      "Input \u001b[1;32mIn [149]\u001b[0m, in \u001b[0;36m<cell line: 1>\u001b[1;34m()\u001b[0m\n\u001b[1;32m----> 1\u001b[0m \u001b[43mhalley\u001b[49m\u001b[43m(\u001b[49m\u001b[43mf\u001b[49m\u001b[43m,\u001b[49m\u001b[38;5;241;43m0\u001b[39;49m\u001b[43m)\u001b[49m\n",
      "Input \u001b[1;32mIn [148]\u001b[0m, in \u001b[0;36mhalley\u001b[1;34m(f, p0)\u001b[0m\n\u001b[0;32m     17\u001b[0m     \u001b[38;5;28;01mif\u001b[39;00m error\u001b[38;5;241m<\u001b[39mtol:                          \u001b[38;5;66;03m#parar hasta que error sea menor que la tolerancia\u001b[39;00m\n\u001b[0;32m     18\u001b[0m         \u001b[38;5;28;01mbreak\u001b[39;00m                                 \n\u001b[1;32m---> 19\u001b[0m \u001b[38;5;28mprint\u001b[39m(\u001b[43mtabulate\u001b[49m(lista,headers\u001b[38;5;241m=\u001b[39m[\u001b[38;5;124m\"\u001b[39m\u001b[38;5;124mn\u001b[39m\u001b[38;5;124m\"\u001b[39m,\u001b[38;5;124m\"\u001b[39m\u001b[38;5;124mpn\u001b[39m\u001b[38;5;124m\"\u001b[39m,\u001b[38;5;124m\"\u001b[39m\u001b[38;5;124mf(pn)\u001b[39m\u001b[38;5;124m\"\u001b[39m,\u001b[38;5;124m\"\u001b[39m\u001b[38;5;124mf\u001b[39m\u001b[38;5;124m'\u001b[39m\u001b[38;5;124m(pn)\u001b[39m\u001b[38;5;124m\"\u001b[39m,\u001b[38;5;124m\"\u001b[39m\u001b[38;5;124merror\u001b[39m\u001b[38;5;124m\"\u001b[39m])) \u001b[38;5;66;03m#imprimiendo resultados en tabulaciones\u001b[39;00m\n\u001b[0;32m     20\u001b[0m \u001b[38;5;28;01mreturn\u001b[39;00m p\n",
      "\u001b[1;31mNameError\u001b[0m: name 'tabulate' is not defined"
     ]
    }
   ],
   "source": [
    "halley(f,0)"
   ]
  },
  {
   "cell_type": "markdown",
   "id": "c614a8c9",
   "metadata": {},
   "source": [
    "## Analisis de convergencia del método\n",
    "como lo hemos demostrado en el trabajo anterior el método de halley converge con un orden cúbico, por lo que podemos decir que si lo comparamos con el método de newton que es su generalización va a converger mas ligero siendo más eficiente ya que el método de newton tiende a converger a un orden cuadrado.\n",
    "\n",
    "por tanto vamos a derivar la formula 1 de halley para encontrar su analisis de convergencia y tambien haremos lo mismo con el de newton para verificar que halley converge más rapido\n",
    "\n",
    "al derivar la ecuación 1 de halley tenemos:\n",
    "$$g'(x)=\\frac{d}{dx}(1-\\frac{2f'(x_{n})^22f'(x_{n})^2}{(2(f'(x_{n}))^2)^2}$$"
   ]
  },
  {
   "cell_type": "code",
   "execution_count": 99,
   "id": "5880be28",
   "metadata": {},
   "outputs": [],
   "source": [
    "def g(t):\n",
    "    return abs(1-(2*f(t)**2*2*df(t)**2)/(2*(df(t))**2)**2)"
   ]
  },
  {
   "cell_type": "code",
   "execution_count": 105,
   "id": "cc9ecf45",
   "metadata": {},
   "outputs": [
    {
     "ename": "TypeError",
     "evalue": "'numpy.ndarray' object is not callable",
     "output_type": "error",
     "traceback": [
      "\u001b[1;31m---------------------------------------------------------------------------\u001b[0m",
      "\u001b[1;31mTypeError\u001b[0m                                 Traceback (most recent call last)",
      "Input \u001b[1;32mIn [105]\u001b[0m, in \u001b[0;36m<cell line: 1>\u001b[1;34m()\u001b[0m\n\u001b[1;32m----> 1\u001b[0m \u001b[43mg\u001b[49m\u001b[43m(\u001b[49m\u001b[38;5;241;43m-\u001b[39;49m\u001b[38;5;241;43m0.5\u001b[39;49m\u001b[43m)\u001b[49m, g(\u001b[38;5;241m0.49\u001b[39m), g(\u001b[38;5;241m1.5\u001b[39m)\n",
      "Input \u001b[1;32mIn [103]\u001b[0m, in \u001b[0;36mg\u001b[1;34m(t)\u001b[0m\n\u001b[0;32m      1\u001b[0m \u001b[38;5;28;01mdef\u001b[39;00m \u001b[38;5;21mg\u001b[39m(t):\n\u001b[1;32m----> 2\u001b[0m     \u001b[38;5;28;01mreturn\u001b[39;00m \u001b[38;5;28mabs\u001b[39m((\u001b[43mf\u001b[49m\u001b[43m(\u001b[49m\u001b[43mt\u001b[49m\u001b[43m)\u001b[49m\u001b[38;5;241m*\u001b[39md2f(t))\u001b[38;5;241m/\u001b[39mdf(t)\u001b[38;5;241m*\u001b[39m\u001b[38;5;241m*\u001b[39m\u001b[38;5;241m2\u001b[39m)\n",
      "\u001b[1;31mTypeError\u001b[0m: 'numpy.ndarray' object is not callable"
     ]
    }
   ],
   "source": [
    "g(-0.5), g(0.49), g(1.5)"
   ]
  },
  {
   "cell_type": "markdown",
   "id": "de2bede5",
   "metadata": {},
   "source": [
    "Analisis de convergencia para método de newton\n",
    "- derivamos la ecuación 1 de newton"
   ]
  },
  {
   "cell_type": "code",
   "execution_count": 103,
   "id": "a9bfb82d",
   "metadata": {},
   "outputs": [],
   "source": [
    "def g(t):\n",
    "    return abs((f(t)*d2f(t))/df(t)**2)"
   ]
  },
  {
   "cell_type": "code",
   "execution_count": 104,
   "id": "00e44754",
   "metadata": {},
   "outputs": [
    {
     "ename": "TypeError",
     "evalue": "'numpy.ndarray' object is not callable",
     "output_type": "error",
     "traceback": [
      "\u001b[1;31m---------------------------------------------------------------------------\u001b[0m",
      "\u001b[1;31mTypeError\u001b[0m                                 Traceback (most recent call last)",
      "Input \u001b[1;32mIn [104]\u001b[0m, in \u001b[0;36m<cell line: 1>\u001b[1;34m()\u001b[0m\n\u001b[1;32m----> 1\u001b[0m \u001b[43mg\u001b[49m\u001b[43m(\u001b[49m\u001b[38;5;241;43m-\u001b[39;49m\u001b[38;5;241;43m0.5\u001b[39;49m\u001b[43m)\u001b[49m, g(\u001b[38;5;241m0.49\u001b[39m), g(\u001b[38;5;241m1.5\u001b[39m)\n",
      "Input \u001b[1;32mIn [103]\u001b[0m, in \u001b[0;36mg\u001b[1;34m(t)\u001b[0m\n\u001b[0;32m      1\u001b[0m \u001b[38;5;28;01mdef\u001b[39;00m \u001b[38;5;21mg\u001b[39m(t):\n\u001b[1;32m----> 2\u001b[0m     \u001b[38;5;28;01mreturn\u001b[39;00m \u001b[38;5;28mabs\u001b[39m((\u001b[43mf\u001b[49m\u001b[43m(\u001b[49m\u001b[43mt\u001b[49m\u001b[43m)\u001b[49m\u001b[38;5;241m*\u001b[39md2f(t))\u001b[38;5;241m/\u001b[39mdf(t)\u001b[38;5;241m*\u001b[39m\u001b[38;5;241m*\u001b[39m\u001b[38;5;241m2\u001b[39m)\n",
      "\u001b[1;31mTypeError\u001b[0m: 'numpy.ndarray' object is not callable"
     ]
    }
   ],
   "source": [
    "g(-0.5), g(0.49), g(1.5)"
   ]
  },
  {
   "cell_type": "markdown",
   "id": "32a0a539",
   "metadata": {},
   "source": [
    "Procederemos a graficar los puntos para ver su tendencia."
   ]
  },
  {
   "cell_type": "code",
   "execution_count": 74,
   "id": "0f350ad9",
   "metadata": {},
   "outputs": [],
   "source": [
    "%matplotlib inline\n",
    "import matplotlib.pyplot as mp\n",
    "import numpy as np"
   ]
  },
  {
   "cell_type": "code",
   "execution_count": 95,
   "id": "75d1bd40",
   "metadata": {
    "scrolled": true
   },
   "outputs": [
    {
     "data": {
      "text/plain": [
       "Text(0.5, 0, 'MÉTODO DE HALLEY')"
      ]
     },
     "execution_count": 95,
     "metadata": {},
     "output_type": "execute_result"
    },
    {
     "data": {
      "image/png": "[encoded data removed]",
      "text/plain": [
       "<Figure size 432x288 with 1 Axes>"
      ]
     },
     "metadata": {
      "needs_background": "light"
     },
     "output_type": "display_data"
    }
   ],
   "source": [
    "mp.plot( [0,0.5,1,1.5,3.5] , [1,2,4,8,20], \"gs\")\n",
    "mp.axis( [0.34, 0.37, 6, 0.81] )\n",
    "mp.ylabel(\"base\")\n",
    "mp.xlabel(\"MÉTODO DE HALLEY\")"
   ]
  },
  {
   "cell_type": "code",
   "execution_count": 96,
   "id": "a4d5e13e",
   "metadata": {},
   "outputs": [
    {
     "data": {
      "text/plain": [
       "Text(0.5, 0, 'MÉTODO DE NEWTON')"
      ]
     },
     "execution_count": 96,
     "metadata": {},
     "output_type": "execute_result"
    },
    {
     "data": {
      "image/png": "[encoded data removed]",
      "text/plain": [
       "<Figure size 432x288 with 1 Axes>"
      ]
     },
     "metadata": {
      "needs_background": "light"
     },
     "output_type": "display_data"
    }
   ],
   "source": [
    "mp.plot( [0,0.5,1,1.5,3.5] , [1,2,4,8,20], \"gs\")\n",
    "mp.axis( [1.44, 1.52, 0, 0.03] )\n",
    "mp.ylabel(\"base\")\n",
    "mp.xlabel(\"MÉTODO DE NEWTON\")"
   ]
  },
  {
   "cell_type": "code",
   "execution_count": 117,
   "id": "55aa3db1",
   "metadata": {},
   "outputs": [
    {
     "name": "stdout",
     "output_type": "stream",
     "text": [
      "\n",
      "Valor Aproximado=  0.567150214240495\n"
     ]
    }
   ],
   "source": [
    "import math as mt\n",
    "import matplotlib\n",
    "import numpy as np\n",
    "n=5\n",
    "es=0.5*(10**(2-n))*100 #Error tolerado\n",
    "\n",
    "timenos1=0.0\n",
    "ti=1\n",
    "timas1=0.0\n",
    "ftimas1=0.0\n",
    "ftimenos1=0.0\n",
    "fti=0.0\n",
    "vver=0.56714329  #LA RAIZ Verdadera\n",
    "i=1\n",
    "ii=0\n",
    "erpa=0.0\n",
    "u5=[]\n",
    "ea5=[]\n",
    "ever5=[]\n",
    "while(True):\n",
    "    ftimenos1=(mt.e**(-timenos1))-timenos1\n",
    "    fti=(mt.e**(-ti))-ti\n",
    "    timas1=ti-((fti*(timenos1-ti))/(ftimenos1-fti))\n",
    "    erpa=abs((timas1-ti)/(timas1))*100\n",
    "    ev=abs(vver-timas1)\n",
    "    erpv=abs(ev/vver)*100\n",
    "\n",
    "    u5.append(ii)\n",
    "    ever5.append(erpv)\n",
    "    if (erpa<es):\n",
    "        break\n",
    "    i=i+1\n",
    "    ii=ii+1\n",
    "    ti=timas1\n",
    "print (\"\\nValor Aproximado= \",timas1)"
   ]
  },
  {
   "cell_type": "code",
   "execution_count": 118,
   "id": "e1995d87",
   "metadata": {},
   "outputs": [],
   "source": [
    "from __future__ import division"
   ]
  },
  {
   "cell_type": "code",
   "execution_count": 119,
   "id": "8c2582c4",
   "metadata": {},
   "outputs": [],
   "source": [
    "iter=pi\n",
    "p0=0\n",
    "listahalley=[]"
   ]
  },
  {
   "cell_type": "code",
   "execution_count": 166,
   "id": "83d03085",
   "metadata": {},
   "outputs": [],
   "source": [
    "def error(f,p0):\n",
    "    lista=[]\n",
    "    p0=0\n",
    "    p=p0\n",
    "    for i in [*range(0, int(float(iter)))]:\n",
    "        p = p-2*f(p)*df(p)/2*df(p)**2-f(p)*d2f(p)\n",
    "        lista.append(p)\n",
    "    print (p)"
   ]
  },
  {
   "cell_type": "code",
   "execution_count": 167,
   "id": "b48a974f",
   "metadata": {},
   "outputs": [
    {
     "name": "stdout",
     "output_type": "stream",
     "text": [
      "1.0286997633054566\n"
     ]
    }
   ],
   "source": [
    "error(f,0)"
   ]
  },
  {
   "cell_type": "markdown",
   "id": "29150116",
   "metadata": {},
   "source": [
    "Ahora continuaremos a sacar los tipos de error que el método de halley puede presentar:\n",
    "Como tenemos un proceso iterativo el error aproximado $\\xi_{a}$ se define así:\n",
    "$$\\xi_{a}= \\frac{error aproximado*valor aproximado}{valor aproximado}*100%$$\n"
   ]
  },
  {
   "cell_type": "code",
   "execution_count": null,
   "id": "fd54aa15",
   "metadata": {},
   "outputs": [],
   "source": []
  }
 ],
 "metadata": {
  "kernelspec": {
   "display_name": "Python 3 (ipykernel)",
   "language": "python",
   "name": "python3"
  },
  "language_info": {
   "codemirror_mode": {
    "name": "ipython",
    "version": 3
   },
   "file_extension": ".py",
   "mimetype": "text/x-python",
   "name": "python",
   "nbconvert_exporter": "python",
   "pygments_lexer": "ipython3",
   "version": "3.10.4"
  }
 },
 "nbformat": 4,
 "nbformat_minor": 5
}
